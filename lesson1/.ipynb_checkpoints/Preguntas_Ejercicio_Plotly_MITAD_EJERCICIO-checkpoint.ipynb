{
 "cells": [
  {
   "cell_type": "markdown",
   "metadata": {
    "id": "GuiL7PKMI05b"
   },
   "source": [
    "# Ejercicios Plotly\n",
    "\n",
    "\n",
    "## Objetivo de la sesión:\n",
    "El participante seleccionará y programará la solución a diferentes problemas relacionados con estadística y visualización de datos:\n"
   ]
  },
  {
   "cell_type": "markdown",
   "metadata": {
    "id": "ddfWNMurI05h"
   },
   "source": [
    "### Ejercicio 1. Carga y preparación de datos:\n"
   ]
  },
  {
   "cell_type": "code",
   "execution_count": null,
   "metadata": {
    "id": "R6iIud11I05k",
    "outputId": "72ba49c4-80e3-4e6d-c5ad-956dfc696824"
   },
   "outputs": [
    {
     "data": {
      "text/html": [
       "<div>\n",
       "<style scoped>\n",
       "    .dataframe tbody tr th:only-of-type {\n",
       "        vertical-align: middle;\n",
       "    }\n",
       "\n",
       "    .dataframe tbody tr th {\n",
       "        vertical-align: top;\n",
       "    }\n",
       "\n",
       "    .dataframe thead th {\n",
       "        text-align: right;\n",
       "    }\n",
       "</style>\n",
       "<table border=\"1\" class=\"dataframe\">\n",
       "  <thead>\n",
       "    <tr style=\"text-align: right;\">\n",
       "      <th></th>\n",
       "      <th>id</th>\n",
       "      <th>organismo</th>\n",
       "      <th>linea_servicio</th>\n",
       "      <th>dia</th>\n",
       "      <th>fecha</th>\n",
       "      <th>afluencia_tarjeta</th>\n",
       "      <th>afluencia_boleto</th>\n",
       "      <th>afluencia_total_preliminar</th>\n",
       "    </tr>\n",
       "  </thead>\n",
       "  <tbody>\n",
       "    <tr>\n",
       "      <th>0</th>\n",
       "      <td>1</td>\n",
       "      <td>Ecobici</td>\n",
       "      <td>NaN</td>\n",
       "      <td>Domingo</td>\n",
       "      <td>2020-03-01</td>\n",
       "      <td>NaN</td>\n",
       "      <td>NaN</td>\n",
       "      <td>11,238</td>\n",
       "    </tr>\n",
       "    <tr>\n",
       "      <th>1</th>\n",
       "      <td>2</td>\n",
       "      <td>Ecobici</td>\n",
       "      <td>NaN</td>\n",
       "      <td>Lunes</td>\n",
       "      <td>2020-03-02</td>\n",
       "      <td>NaN</td>\n",
       "      <td>NaN</td>\n",
       "      <td>29,475</td>\n",
       "    </tr>\n",
       "    <tr>\n",
       "      <th>2</th>\n",
       "      <td>3</td>\n",
       "      <td>Ecobici</td>\n",
       "      <td>NaN</td>\n",
       "      <td>Martes</td>\n",
       "      <td>2020-03-03</td>\n",
       "      <td>NaN</td>\n",
       "      <td>NaN</td>\n",
       "      <td>31,855</td>\n",
       "    </tr>\n",
       "    <tr>\n",
       "      <th>3</th>\n",
       "      <td>4</td>\n",
       "      <td>Ecobici</td>\n",
       "      <td>NaN</td>\n",
       "      <td>Miércoles</td>\n",
       "      <td>2020-03-04</td>\n",
       "      <td>NaN</td>\n",
       "      <td>NaN</td>\n",
       "      <td>31,477</td>\n",
       "    </tr>\n",
       "    <tr>\n",
       "      <th>4</th>\n",
       "      <td>5</td>\n",
       "      <td>Ecobici</td>\n",
       "      <td>NaN</td>\n",
       "      <td>Jueves</td>\n",
       "      <td>2020-03-05</td>\n",
       "      <td>NaN</td>\n",
       "      <td>NaN</td>\n",
       "      <td>31,493</td>\n",
       "    </tr>\n",
       "  </tbody>\n",
       "</table>\n",
       "</div>"
      ],
      "text/plain": [
       "   id organismo linea_servicio        dia       fecha afluencia_tarjeta  \\\n",
       "0   1   Ecobici            NaN    Domingo  2020-03-01               NaN   \n",
       "1   2   Ecobici            NaN      Lunes  2020-03-02               NaN   \n",
       "2   3   Ecobici            NaN     Martes  2020-03-03               NaN   \n",
       "3   4   Ecobici            NaN  Miércoles  2020-03-04               NaN   \n",
       "4   5   Ecobici            NaN     Jueves  2020-03-05               NaN   \n",
       "\n",
       "  afluencia_boleto afluencia_total_preliminar  \n",
       "0              NaN                     11,238  \n",
       "1              NaN                     29,475  \n",
       "2              NaN                     31,855  \n",
       "3              NaN                     31,477  \n",
       "4              NaN                     31,493  "
      ]
     },
     "execution_count": 3,
     "metadata": {},
     "output_type": "execute_result"
    }
   ],
   "source": [
    "import pandas as pd\n",
    "data = pd.read_csv(\"https://datos.cdmx.gob.mx/dataset/da3fcf80-f15f-4478-9795-26eddaa6fe86/resource/5d33f9c7-e033-4676-a02d-9e2129017acf/download/afluencia-preliminar-en-transporte-publico.xlsx-afluencia_diaria.csv\")\n",
    "data.head()\n"
   ]
  },
  {
   "cell_type": "markdown",
   "metadata": {
    "id": "cpzJ-QU7I05p"
   },
   "source": [
    "#### 1.1 Realiza la lista de las variables del dataframe con su respectivo tipo de dato y una pequeña descripción, usa las tablas que genera plotly.\n"
   ]
  },
  {
   "cell_type": "code",
   "execution_count": null,
   "metadata": {
    "id": "1N5nmlwAI05q",
    "outputId": "c2881b00-92ab-4ffb-e468-b6ac8dba3151"
   },
   "outputs": [
    {
     "name": "stdout",
     "output_type": "stream",
     "text": [
      "<class 'pandas.core.frame.DataFrame'>\n",
      "RangeIndex: 18714 entries, 0 to 18713\n",
      "Data columns (total 8 columns):\n",
      " #   Column                      Non-Null Count  Dtype \n",
      "---  ------                      --------------  ----- \n",
      " 0   id                          18714 non-null  int64 \n",
      " 1   organismo                   18714 non-null  object\n",
      " 2   linea_servicio              18225 non-null  object\n",
      " 3   dia                         18714 non-null  object\n",
      " 4   fecha                       18714 non-null  object\n",
      " 5   afluencia_tarjeta           2687 non-null   object\n",
      " 6   afluencia_boleto            3598 non-null   object\n",
      " 7   afluencia_total_preliminar  18512 non-null  object\n",
      "dtypes: int64(1), object(7)\n",
      "memory usage: 1.1+ MB\n"
     ]
    }
   ],
   "source": [
    "data.info()"
   ]
  },
  {
   "cell_type": "code",
   "execution_count": null,
   "metadata": {
    "id": "s8d9b_lYI05r"
   },
   "outputs": [],
   "source": [
    "non_null_counts = [18714 , 18714 , 18225, 18714 , 18714 , 2687, 3598, 18512 ]\n",
    "tipos = [\"int64\", \"object\", \"object\", \"object\", \"object\", \"object\", \"object\", \"object\"]"
   ]
  },
  {
   "cell_type": "code",
   "execution_count": 7,
   "metadata": {
    "colab": {
     "base_uri": "https://localhost:8080/",
     "height": 542
    },
    "id": "TqQTd9FMI05s",
    "outputId": "71d50b0e-ff30-4163-a50d-e31e5f1cc976"
   },
   "outputs": [
    {
     "data": {
      "text/html": [
       "<html>\n",
       "<head><meta charset=\"utf-8\" /></head>\n",
       "<body>\n",
       "    <div>            <script src=\"https://cdnjs.cloudflare.com/ajax/libs/mathjax/2.7.5/MathJax.js?config=TeX-AMS-MML_SVG\"></script><script type=\"text/javascript\">if (window.MathJax) {MathJax.Hub.Config({SVG: {font: \"STIX-Web\"}});}</script>                <script type=\"text/javascript\">window.PlotlyConfig = {MathJaxConfig: 'local'};</script>\n",
       "        <script src=\"https://cdn.plot.ly/plotly-2.8.3.min.js\"></script>                <div id=\"f2cfe4ce-a4e2-4e2d-9226-d6fc0523c4e0\" class=\"plotly-graph-div\" style=\"height:525px; width:100%;\"></div>            <script type=\"text/javascript\">                                    window.PLOTLYENV=window.PLOTLYENV || {};                                    if (document.getElementById(\"f2cfe4ce-a4e2-4e2d-9226-d6fc0523c4e0\")) {                    Plotly.newPlot(                        \"f2cfe4ce-a4e2-4e2d-9226-d6fc0523c4e0\",                        [{\"cells\":{\"values\":[[\"id\",\"organismo\",\"linea_servicio\",\"dia\",\"fecha\",\"afluencia_tarjeta\",\"afluencia_boleto\",\"afluencia_total_preliminar\"],[18714,18714,18225,18714,18714,2687,3598,18512],[\"int64\",\"object\",\"object\",\"object\",\"object\",\"object\",\"object\",\"object\"]]},\"header\":{\"values\":[\"Columna\",\"Non-Null Conteo\",\"Data Type\"]},\"type\":\"table\"}],                        {\"template\":{\"data\":{\"bar\":[{\"error_x\":{\"color\":\"#2a3f5f\"},\"error_y\":{\"color\":\"#2a3f5f\"},\"marker\":{\"line\":{\"color\":\"#E5ECF6\",\"width\":0.5},\"pattern\":{\"fillmode\":\"overlay\",\"size\":10,\"solidity\":0.2}},\"type\":\"bar\"}],\"barpolar\":[{\"marker\":{\"line\":{\"color\":\"#E5ECF6\",\"width\":0.5},\"pattern\":{\"fillmode\":\"overlay\",\"size\":10,\"solidity\":0.2}},\"type\":\"barpolar\"}],\"carpet\":[{\"aaxis\":{\"endlinecolor\":\"#2a3f5f\",\"gridcolor\":\"white\",\"linecolor\":\"white\",\"minorgridcolor\":\"white\",\"startlinecolor\":\"#2a3f5f\"},\"baxis\":{\"endlinecolor\":\"#2a3f5f\",\"gridcolor\":\"white\",\"linecolor\":\"white\",\"minorgridcolor\":\"white\",\"startlinecolor\":\"#2a3f5f\"},\"type\":\"carpet\"}],\"choropleth\":[{\"colorbar\":{\"outlinewidth\":0,\"ticks\":\"\"},\"type\":\"choropleth\"}],\"contour\":[{\"colorbar\":{\"outlinewidth\":0,\"ticks\":\"\"},\"colorscale\":[[0.0,\"#0d0887\"],[0.1111111111111111,\"#46039f\"],[0.2222222222222222,\"#7201a8\"],[0.3333333333333333,\"#9c179e\"],[0.4444444444444444,\"#bd3786\"],[0.5555555555555556,\"#d8576b\"],[0.6666666666666666,\"#ed7953\"],[0.7777777777777778,\"#fb9f3a\"],[0.8888888888888888,\"#fdca26\"],[1.0,\"#f0f921\"]],\"type\":\"contour\"}],\"contourcarpet\":[{\"colorbar\":{\"outlinewidth\":0,\"ticks\":\"\"},\"type\":\"contourcarpet\"}],\"heatmap\":[{\"colorbar\":{\"outlinewidth\":0,\"ticks\":\"\"},\"colorscale\":[[0.0,\"#0d0887\"],[0.1111111111111111,\"#46039f\"],[0.2222222222222222,\"#7201a8\"],[0.3333333333333333,\"#9c179e\"],[0.4444444444444444,\"#bd3786\"],[0.5555555555555556,\"#d8576b\"],[0.6666666666666666,\"#ed7953\"],[0.7777777777777778,\"#fb9f3a\"],[0.8888888888888888,\"#fdca26\"],[1.0,\"#f0f921\"]],\"type\":\"heatmap\"}],\"heatmapgl\":[{\"colorbar\":{\"outlinewidth\":0,\"ticks\":\"\"},\"colorscale\":[[0.0,\"#0d0887\"],[0.1111111111111111,\"#46039f\"],[0.2222222222222222,\"#7201a8\"],[0.3333333333333333,\"#9c179e\"],[0.4444444444444444,\"#bd3786\"],[0.5555555555555556,\"#d8576b\"],[0.6666666666666666,\"#ed7953\"],[0.7777777777777778,\"#fb9f3a\"],[0.8888888888888888,\"#fdca26\"],[1.0,\"#f0f921\"]],\"type\":\"heatmapgl\"}],\"histogram\":[{\"marker\":{\"pattern\":{\"fillmode\":\"overlay\",\"size\":10,\"solidity\":0.2}},\"type\":\"histogram\"}],\"histogram2d\":[{\"colorbar\":{\"outlinewidth\":0,\"ticks\":\"\"},\"colorscale\":[[0.0,\"#0d0887\"],[0.1111111111111111,\"#46039f\"],[0.2222222222222222,\"#7201a8\"],[0.3333333333333333,\"#9c179e\"],[0.4444444444444444,\"#bd3786\"],[0.5555555555555556,\"#d8576b\"],[0.6666666666666666,\"#ed7953\"],[0.7777777777777778,\"#fb9f3a\"],[0.8888888888888888,\"#fdca26\"],[1.0,\"#f0f921\"]],\"type\":\"histogram2d\"}],\"histogram2dcontour\":[{\"colorbar\":{\"outlinewidth\":0,\"ticks\":\"\"},\"colorscale\":[[0.0,\"#0d0887\"],[0.1111111111111111,\"#46039f\"],[0.2222222222222222,\"#7201a8\"],[0.3333333333333333,\"#9c179e\"],[0.4444444444444444,\"#bd3786\"],[0.5555555555555556,\"#d8576b\"],[0.6666666666666666,\"#ed7953\"],[0.7777777777777778,\"#fb9f3a\"],[0.8888888888888888,\"#fdca26\"],[1.0,\"#f0f921\"]],\"type\":\"histogram2dcontour\"}],\"mesh3d\":[{\"colorbar\":{\"outlinewidth\":0,\"ticks\":\"\"},\"type\":\"mesh3d\"}],\"parcoords\":[{\"line\":{\"colorbar\":{\"outlinewidth\":0,\"ticks\":\"\"}},\"type\":\"parcoords\"}],\"pie\":[{\"automargin\":true,\"type\":\"pie\"}],\"scatter\":[{\"marker\":{\"colorbar\":{\"outlinewidth\":0,\"ticks\":\"\"}},\"type\":\"scatter\"}],\"scatter3d\":[{\"line\":{\"colorbar\":{\"outlinewidth\":0,\"ticks\":\"\"}},\"marker\":{\"colorbar\":{\"outlinewidth\":0,\"ticks\":\"\"}},\"type\":\"scatter3d\"}],\"scattercarpet\":[{\"marker\":{\"colorbar\":{\"outlinewidth\":0,\"ticks\":\"\"}},\"type\":\"scattercarpet\"}],\"scattergeo\":[{\"marker\":{\"colorbar\":{\"outlinewidth\":0,\"ticks\":\"\"}},\"type\":\"scattergeo\"}],\"scattergl\":[{\"marker\":{\"colorbar\":{\"outlinewidth\":0,\"ticks\":\"\"}},\"type\":\"scattergl\"}],\"scattermapbox\":[{\"marker\":{\"colorbar\":{\"outlinewidth\":0,\"ticks\":\"\"}},\"type\":\"scattermapbox\"}],\"scatterpolar\":[{\"marker\":{\"colorbar\":{\"outlinewidth\":0,\"ticks\":\"\"}},\"type\":\"scatterpolar\"}],\"scatterpolargl\":[{\"marker\":{\"colorbar\":{\"outlinewidth\":0,\"ticks\":\"\"}},\"type\":\"scatterpolargl\"}],\"scatterternary\":[{\"marker\":{\"colorbar\":{\"outlinewidth\":0,\"ticks\":\"\"}},\"type\":\"scatterternary\"}],\"surface\":[{\"colorbar\":{\"outlinewidth\":0,\"ticks\":\"\"},\"colorscale\":[[0.0,\"#0d0887\"],[0.1111111111111111,\"#46039f\"],[0.2222222222222222,\"#7201a8\"],[0.3333333333333333,\"#9c179e\"],[0.4444444444444444,\"#bd3786\"],[0.5555555555555556,\"#d8576b\"],[0.6666666666666666,\"#ed7953\"],[0.7777777777777778,\"#fb9f3a\"],[0.8888888888888888,\"#fdca26\"],[1.0,\"#f0f921\"]],\"type\":\"surface\"}],\"table\":[{\"cells\":{\"fill\":{\"color\":\"#EBF0F8\"},\"line\":{\"color\":\"white\"}},\"header\":{\"fill\":{\"color\":\"#C8D4E3\"},\"line\":{\"color\":\"white\"}},\"type\":\"table\"}]},\"layout\":{\"annotationdefaults\":{\"arrowcolor\":\"#2a3f5f\",\"arrowhead\":0,\"arrowwidth\":1},\"autotypenumbers\":\"strict\",\"coloraxis\":{\"colorbar\":{\"outlinewidth\":0,\"ticks\":\"\"}},\"colorscale\":{\"diverging\":[[0,\"#8e0152\"],[0.1,\"#c51b7d\"],[0.2,\"#de77ae\"],[0.3,\"#f1b6da\"],[0.4,\"#fde0ef\"],[0.5,\"#f7f7f7\"],[0.6,\"#e6f5d0\"],[0.7,\"#b8e186\"],[0.8,\"#7fbc41\"],[0.9,\"#4d9221\"],[1,\"#276419\"]],\"sequential\":[[0.0,\"#0d0887\"],[0.1111111111111111,\"#46039f\"],[0.2222222222222222,\"#7201a8\"],[0.3333333333333333,\"#9c179e\"],[0.4444444444444444,\"#bd3786\"],[0.5555555555555556,\"#d8576b\"],[0.6666666666666666,\"#ed7953\"],[0.7777777777777778,\"#fb9f3a\"],[0.8888888888888888,\"#fdca26\"],[1.0,\"#f0f921\"]],\"sequentialminus\":[[0.0,\"#0d0887\"],[0.1111111111111111,\"#46039f\"],[0.2222222222222222,\"#7201a8\"],[0.3333333333333333,\"#9c179e\"],[0.4444444444444444,\"#bd3786\"],[0.5555555555555556,\"#d8576b\"],[0.6666666666666666,\"#ed7953\"],[0.7777777777777778,\"#fb9f3a\"],[0.8888888888888888,\"#fdca26\"],[1.0,\"#f0f921\"]]},\"colorway\":[\"#636efa\",\"#EF553B\",\"#00cc96\",\"#ab63fa\",\"#FFA15A\",\"#19d3f3\",\"#FF6692\",\"#B6E880\",\"#FF97FF\",\"#FECB52\"],\"font\":{\"color\":\"#2a3f5f\"},\"geo\":{\"bgcolor\":\"white\",\"lakecolor\":\"white\",\"landcolor\":\"#E5ECF6\",\"showlakes\":true,\"showland\":true,\"subunitcolor\":\"white\"},\"hoverlabel\":{\"align\":\"left\"},\"hovermode\":\"closest\",\"mapbox\":{\"style\":\"light\"},\"paper_bgcolor\":\"white\",\"plot_bgcolor\":\"#E5ECF6\",\"polar\":{\"angularaxis\":{\"gridcolor\":\"white\",\"linecolor\":\"white\",\"ticks\":\"\"},\"bgcolor\":\"#E5ECF6\",\"radialaxis\":{\"gridcolor\":\"white\",\"linecolor\":\"white\",\"ticks\":\"\"}},\"scene\":{\"xaxis\":{\"backgroundcolor\":\"#E5ECF6\",\"gridcolor\":\"white\",\"gridwidth\":2,\"linecolor\":\"white\",\"showbackground\":true,\"ticks\":\"\",\"zerolinecolor\":\"white\"},\"yaxis\":{\"backgroundcolor\":\"#E5ECF6\",\"gridcolor\":\"white\",\"gridwidth\":2,\"linecolor\":\"white\",\"showbackground\":true,\"ticks\":\"\",\"zerolinecolor\":\"white\"},\"zaxis\":{\"backgroundcolor\":\"#E5ECF6\",\"gridcolor\":\"white\",\"gridwidth\":2,\"linecolor\":\"white\",\"showbackground\":true,\"ticks\":\"\",\"zerolinecolor\":\"white\"}},\"shapedefaults\":{\"line\":{\"color\":\"#2a3f5f\"}},\"ternary\":{\"aaxis\":{\"gridcolor\":\"white\",\"linecolor\":\"white\",\"ticks\":\"\"},\"baxis\":{\"gridcolor\":\"white\",\"linecolor\":\"white\",\"ticks\":\"\"},\"bgcolor\":\"#E5ECF6\",\"caxis\":{\"gridcolor\":\"white\",\"linecolor\":\"white\",\"ticks\":\"\"}},\"title\":{\"x\":0.05},\"xaxis\":{\"automargin\":true,\"gridcolor\":\"white\",\"linecolor\":\"white\",\"ticks\":\"\",\"title\":{\"standoff\":15},\"zerolinecolor\":\"white\",\"zerolinewidth\":2},\"yaxis\":{\"automargin\":true,\"gridcolor\":\"white\",\"linecolor\":\"white\",\"ticks\":\"\",\"title\":{\"standoff\":15},\"zerolinecolor\":\"white\",\"zerolinewidth\":2}}}},                        {\"responsive\": true}                    ).then(function(){\n",
       "                            \n",
       "var gd = document.getElementById('f2cfe4ce-a4e2-4e2d-9226-d6fc0523c4e0');\n",
       "var x = new MutationObserver(function (mutations, observer) {{\n",
       "        var display = window.getComputedStyle(gd).display;\n",
       "        if (!display || display === 'none') {{\n",
       "            console.log([gd, 'removed!']);\n",
       "            Plotly.purge(gd);\n",
       "            observer.disconnect();\n",
       "        }}\n",
       "}});\n",
       "\n",
       "// Listen for the removal of the full notebook cells\n",
       "var notebookContainer = gd.closest('#notebook-container');\n",
       "if (notebookContainer) {{\n",
       "    x.observe(notebookContainer, {childList: true});\n",
       "}}\n",
       "\n",
       "// Listen for the clearing of the current output cell\n",
       "var outputEl = gd.closest('.output');\n",
       "if (outputEl) {{\n",
       "    x.observe(outputEl, {childList: true});\n",
       "}}\n",
       "\n",
       "                        })                };                            </script>        </div>\n",
       "</body>\n",
       "</html>"
      ]
     },
     "metadata": {},
     "output_type": "display_data"
    }
   ],
   "source": [
    "#https://plotly.com/python/table/\n",
    "import plotly.graph_objects as go\n",
    "\n",
    "\n",
    "\n",
    "fig = go.Figure(data=[go.Table(header=dict(values=['Columna', 'Non-Null Conteo', \"Data Type\"]),\n",
    "                 cells=dict(values=[ list( data.columns ), non_null_counts, tipos ]))\n",
    "                     ])\n",
    "fig.show()\n"
   ]
  },
  {
   "cell_type": "markdown",
   "metadata": {
    "id": "2rJjA_X3I05u"
   },
   "source": [
    "#### ¿Qué notas de los datos?, ¿Estan en un formato correcto?"
   ]
  },
  {
   "cell_type": "code",
   "execution_count": 8,
   "metadata": {
    "id": "73uZyVEwI05v"
   },
   "outputs": [],
   "source": [
    "data[\"fecha\"] = pd.to_datetime( data[\"fecha\"] )"
   ]
  },
  {
   "cell_type": "code",
   "execution_count": null,
   "metadata": {
    "id": "RMih-7xqI05v"
   },
   "outputs": [],
   "source": [
    "data[\"afluencia_tarjeta\"] = data[\"afluencia_tarjeta\"].str.replace(\",\", \"\")\n",
    "data[\"afluencia_boleto\"] = data[\"afluencia_boleto\"].str.replace(\",\", \"\")\n",
    "data[\"afluencia_total_preliminar\"] = data[\"afluencia_total_preliminar\"].str.replace(\",\", \"\")"
   ]
  },
  {
   "cell_type": "code",
   "execution_count": null,
   "metadata": {
    "id": "qFn4169XI05w"
   },
   "outputs": [],
   "source": [
    "data[\"afluencia_tarjeta\"] = pd.to_numeric(data[\"afluencia_tarjeta\"])\n",
    "data[\"afluencia_boleto\"] = data[\"afluencia_tarjeta\"].astype(float)\n",
    "data[\"afluencia_total_preliminar\"] = data[\"afluencia_total_preliminar\"].astype(float)"
   ]
  },
  {
   "cell_type": "code",
   "execution_count": null,
   "metadata": {
    "id": "sXbdnv3NI05w",
    "outputId": "4c14a424-08f5-40df-cedf-dc04bc070f59"
   },
   "outputs": [
    {
     "name": "stdout",
     "output_type": "stream",
     "text": [
      "<class 'pandas.core.frame.DataFrame'>\n",
      "RangeIndex: 18714 entries, 0 to 18713\n",
      "Data columns (total 8 columns):\n",
      " #   Column                      Non-Null Count  Dtype         \n",
      "---  ------                      --------------  -----         \n",
      " 0   id                          18714 non-null  int64         \n",
      " 1   organismo                   18714 non-null  object        \n",
      " 2   linea_servicio              18225 non-null  object        \n",
      " 3   dia                         18714 non-null  object        \n",
      " 4   fecha                       18714 non-null  datetime64[ns]\n",
      " 5   afluencia_tarjeta           2687 non-null   float64       \n",
      " 6   afluencia_boleto            2687 non-null   float64       \n",
      " 7   afluencia_total_preliminar  18512 non-null  float64       \n",
      "dtypes: datetime64[ns](1), float64(3), int64(1), object(3)\n",
      "memory usage: 1.1+ MB\n"
     ]
    }
   ],
   "source": [
    "data.info()"
   ]
  },
  {
   "cell_type": "code",
   "execution_count": null,
   "metadata": {
    "id": "4RGonVYoI05x",
    "outputId": "d526ae4d-796f-4465-f8d5-52c97aac4838"
   },
   "outputs": [
    {
     "data": {
      "text/plain": [
       "array(['Domingo', 'Lunes', 'Martes', 'Miércoles', 'Jueves', 'Viernes',\n",
       "       'Sábado'], dtype=object)"
      ]
     },
     "execution_count": 46,
     "metadata": {},
     "output_type": "execute_result"
    }
   ],
   "source": [
    "data[\"dia\"] = data[\"dia\"].str.replace(\"Míercoles\", \"Miércoles\")\n",
    "data.dia.unique()"
   ]
  },
  {
   "cell_type": "markdown",
   "metadata": {
    "id": "HVpQ8cFgI05y"
   },
   "source": [
    "#### Dentro de las columnas hay algunas que tienen el siguiente formato:\n",
    "array([nan, '51', '1,537', ..., '2,465', '5,442', '2,484'], dtype=object)\n",
    "¿Cómo se puede cambiar al formato correcto?\n",
    "\n",
    "Hint: Usa la vectorización .str y el método que creas se adapta mejor a resolver este problema\n"
   ]
  },
  {
   "cell_type": "code",
   "execution_count": null,
   "metadata": {
    "id": "4T-SgU_TI05y",
    "outputId": "ed5648ca-e6f2-4df5-b081-d3bb4b0ee518"
   },
   "outputs": [
    {
     "data": {
      "text/html": [
       "<div>\n",
       "<style scoped>\n",
       "    .dataframe tbody tr th:only-of-type {\n",
       "        vertical-align: middle;\n",
       "    }\n",
       "\n",
       "    .dataframe tbody tr th {\n",
       "        vertical-align: top;\n",
       "    }\n",
       "\n",
       "    .dataframe thead th {\n",
       "        text-align: right;\n",
       "    }\n",
       "</style>\n",
       "<table border=\"1\" class=\"dataframe\">\n",
       "  <thead>\n",
       "    <tr style=\"text-align: right;\">\n",
       "      <th></th>\n",
       "      <th>id</th>\n",
       "      <th>organismo</th>\n",
       "      <th>linea_servicio</th>\n",
       "      <th>dia</th>\n",
       "      <th>fecha</th>\n",
       "      <th>afluencia_tarjeta</th>\n",
       "      <th>afluencia_boleto</th>\n",
       "      <th>afluencia_total_preliminar</th>\n",
       "    </tr>\n",
       "  </thead>\n",
       "  <tbody>\n",
       "    <tr>\n",
       "      <th>0</th>\n",
       "      <td>1</td>\n",
       "      <td>Ecobici</td>\n",
       "      <td>NaN</td>\n",
       "      <td>Domingo</td>\n",
       "      <td>2020-03-01</td>\n",
       "      <td>NaN</td>\n",
       "      <td>NaN</td>\n",
       "      <td>11238.0</td>\n",
       "    </tr>\n",
       "    <tr>\n",
       "      <th>1</th>\n",
       "      <td>2</td>\n",
       "      <td>Ecobici</td>\n",
       "      <td>NaN</td>\n",
       "      <td>Lunes</td>\n",
       "      <td>2020-03-02</td>\n",
       "      <td>NaN</td>\n",
       "      <td>NaN</td>\n",
       "      <td>29475.0</td>\n",
       "    </tr>\n",
       "    <tr>\n",
       "      <th>2</th>\n",
       "      <td>3</td>\n",
       "      <td>Ecobici</td>\n",
       "      <td>NaN</td>\n",
       "      <td>Martes</td>\n",
       "      <td>2020-03-03</td>\n",
       "      <td>NaN</td>\n",
       "      <td>NaN</td>\n",
       "      <td>31855.0</td>\n",
       "    </tr>\n",
       "    <tr>\n",
       "      <th>3</th>\n",
       "      <td>4</td>\n",
       "      <td>Ecobici</td>\n",
       "      <td>NaN</td>\n",
       "      <td>Miércoles</td>\n",
       "      <td>2020-03-04</td>\n",
       "      <td>NaN</td>\n",
       "      <td>NaN</td>\n",
       "      <td>31477.0</td>\n",
       "    </tr>\n",
       "    <tr>\n",
       "      <th>4</th>\n",
       "      <td>5</td>\n",
       "      <td>Ecobici</td>\n",
       "      <td>NaN</td>\n",
       "      <td>Jueves</td>\n",
       "      <td>2020-03-05</td>\n",
       "      <td>NaN</td>\n",
       "      <td>NaN</td>\n",
       "      <td>31493.0</td>\n",
       "    </tr>\n",
       "    <tr>\n",
       "      <th>...</th>\n",
       "      <td>...</td>\n",
       "      <td>...</td>\n",
       "      <td>...</td>\n",
       "      <td>...</td>\n",
       "      <td>...</td>\n",
       "      <td>...</td>\n",
       "      <td>...</td>\n",
       "      <td>...</td>\n",
       "    </tr>\n",
       "    <tr>\n",
       "      <th>18709</th>\n",
       "      <td>18710</td>\n",
       "      <td>Suburbano</td>\n",
       "      <td>L1</td>\n",
       "      <td>Lunes</td>\n",
       "      <td>2021-06-28</td>\n",
       "      <td>NaN</td>\n",
       "      <td>NaN</td>\n",
       "      <td>NaN</td>\n",
       "    </tr>\n",
       "    <tr>\n",
       "      <th>18710</th>\n",
       "      <td>18711</td>\n",
       "      <td>Suburbano</td>\n",
       "      <td>L1</td>\n",
       "      <td>Martes</td>\n",
       "      <td>2021-06-29</td>\n",
       "      <td>NaN</td>\n",
       "      <td>NaN</td>\n",
       "      <td>NaN</td>\n",
       "    </tr>\n",
       "    <tr>\n",
       "      <th>18711</th>\n",
       "      <td>18712</td>\n",
       "      <td>Suburbano</td>\n",
       "      <td>L1</td>\n",
       "      <td>Miércoles</td>\n",
       "      <td>2021-06-30</td>\n",
       "      <td>NaN</td>\n",
       "      <td>NaN</td>\n",
       "      <td>NaN</td>\n",
       "    </tr>\n",
       "    <tr>\n",
       "      <th>18712</th>\n",
       "      <td>18713</td>\n",
       "      <td>Suburbano</td>\n",
       "      <td>L1</td>\n",
       "      <td>Jueves</td>\n",
       "      <td>2021-07-01</td>\n",
       "      <td>NaN</td>\n",
       "      <td>NaN</td>\n",
       "      <td>NaN</td>\n",
       "    </tr>\n",
       "    <tr>\n",
       "      <th>18713</th>\n",
       "      <td>18714</td>\n",
       "      <td>Suburbano</td>\n",
       "      <td>L1</td>\n",
       "      <td>Viernes</td>\n",
       "      <td>2021-07-02</td>\n",
       "      <td>NaN</td>\n",
       "      <td>NaN</td>\n",
       "      <td>NaN</td>\n",
       "    </tr>\n",
       "  </tbody>\n",
       "</table>\n",
       "<p>18714 rows × 8 columns</p>\n",
       "</div>"
      ],
      "text/plain": [
       "          id  organismo linea_servicio        dia      fecha  \\\n",
       "0          1    Ecobici            NaN    Domingo 2020-03-01   \n",
       "1          2    Ecobici            NaN      Lunes 2020-03-02   \n",
       "2          3    Ecobici            NaN     Martes 2020-03-03   \n",
       "3          4    Ecobici            NaN  Miércoles 2020-03-04   \n",
       "4          5    Ecobici            NaN     Jueves 2020-03-05   \n",
       "...      ...        ...            ...        ...        ...   \n",
       "18709  18710  Suburbano             L1      Lunes 2021-06-28   \n",
       "18710  18711  Suburbano             L1     Martes 2021-06-29   \n",
       "18711  18712  Suburbano             L1  Miércoles 2021-06-30   \n",
       "18712  18713  Suburbano             L1     Jueves 2021-07-01   \n",
       "18713  18714  Suburbano             L1    Viernes 2021-07-02   \n",
       "\n",
       "       afluencia_tarjeta  afluencia_boleto  afluencia_total_preliminar  \n",
       "0                    NaN               NaN                     11238.0  \n",
       "1                    NaN               NaN                     29475.0  \n",
       "2                    NaN               NaN                     31855.0  \n",
       "3                    NaN               NaN                     31477.0  \n",
       "4                    NaN               NaN                     31493.0  \n",
       "...                  ...               ...                         ...  \n",
       "18709                NaN               NaN                         NaN  \n",
       "18710                NaN               NaN                         NaN  \n",
       "18711                NaN               NaN                         NaN  \n",
       "18712                NaN               NaN                         NaN  \n",
       "18713                NaN               NaN                         NaN  \n",
       "\n",
       "[18714 rows x 8 columns]"
      ]
     },
     "execution_count": 62,
     "metadata": {},
     "output_type": "execute_result"
    }
   ],
   "source": [
    "data"
   ]
  },
  {
   "cell_type": "markdown",
   "metadata": {
    "id": "86aNxxtVI05z"
   },
   "source": [
    "### Ejercicio 2, Análisis descriptivo:\n"
   ]
  },
  {
   "cell_type": "markdown",
   "metadata": {
    "id": "oj86VN7dI051"
   },
   "source": [
    "#### ¿Cuál es el periodo de los datos?"
   ]
  },
  {
   "cell_type": "code",
   "execution_count": null,
   "metadata": {
    "id": "v1VItGmsI051",
    "outputId": "f9fb8a07-dca1-4ab1-ef8b-c1a81f331a37"
   },
   "outputs": [
    {
     "data": {
      "text/plain": [
       "Timestamp('2021-07-02 00:00:00')"
      ]
     },
     "execution_count": 63,
     "metadata": {},
     "output_type": "execute_result"
    }
   ],
   "source": [
    "data[\"fecha\"].max()"
   ]
  },
  {
   "cell_type": "code",
   "execution_count": null,
   "metadata": {
    "id": "l8ZD01yTI052",
    "outputId": "e2dc6a03-dc90-44bd-8f32-cc30338a03f0"
   },
   "outputs": [
    {
     "data": {
      "text/plain": [
       "Timestamp('2020-03-01 00:00:00')"
      ]
     },
     "execution_count": 64,
     "metadata": {},
     "output_type": "execute_result"
    }
   ],
   "source": [
    "data[\"fecha\"].min()"
   ]
  },
  {
   "cell_type": "code",
   "execution_count": null,
   "metadata": {
    "id": "yyou5GV9I054",
    "outputId": "c656d7d4-af07-40e4-c087-f2e6585f9045"
   },
   "outputs": [
    {
     "data": {
      "text/plain": [
       "Timedelta('488 days 00:00:00')"
      ]
     },
     "execution_count": 65,
     "metadata": {},
     "output_type": "execute_result"
    }
   ],
   "source": [
    "data[\"fecha\"].max() - data[\"fecha\"].min()"
   ]
  },
  {
   "cell_type": "markdown",
   "metadata": {
    "id": "3fhND_P5I056"
   },
   "source": [
    "#### ¿Cuál es la unidad muestral de los datos?"
   ]
  },
  {
   "cell_type": "code",
   "execution_count": null,
   "metadata": {
    "id": "SXq5_BO-I057"
   },
   "outputs": [],
   "source": [
    "# Unidad diarias por organismo "
   ]
  },
  {
   "cell_type": "markdown",
   "metadata": {
    "id": "Qo8Ha-OqI057"
   },
   "source": [
    "#### ¿Existe alguna fecha sin datos?, para esta pregunta, utiliza lo siguiente:\n",
    "\n",
    "1. método resample de tu dataframe para agrupar tus datos por día\n",
    "2. usa la función de agregación size y el resultado ordénalo de menor a mayor\n",
    "3. usa la función de agregación count sobre la columna que creas que mejor representaría un conteo de datos de esa columna por día. El resultado ordénalo de menor a mayor\n",
    "4. ¿Hay alguna fecha con falta de datos?, ¿Si hay alguna fecha con valores faltantes cuál crees que sea la razón?¿Ocurre para todos los organismos?\n",
    "5. ¿Cuál es la diferencia entre count y size?\n"
   ]
  },
  {
   "cell_type": "markdown",
   "metadata": {
    "id": "CF1VCHEEI058"
   },
   "source": [
    "#### Realiza una gráfica que muestre la tendencia diaria de afluencia total de todos los organismos. ¿Cuál es el día con mayor afluencia total?"
   ]
  },
  {
   "cell_type": "markdown",
   "metadata": {
    "id": "Psi-pUOhI058"
   },
   "source": [
    "#### Realiza una gráfica de muestre la tendencia mensual de afluencia total de todos los organismos\n",
    "¿Cuál es el mes con mayor afluencia total?\n"
   ]
  },
  {
   "cell_type": "markdown",
   "metadata": {
    "id": "PFs2ghzqI059"
   },
   "source": [
    "#### Cuál es el día de la semana con mayor afluencia total promedio. Realiza una gráfica que permita visualizar el promedio de afluencia total de cada día de la semana y la proporción que contribuye cada organismo a ese promedio diario."
   ]
  },
  {
   "cell_type": "markdown",
   "metadata": {
    "id": "r_cDrGlNI059"
   },
   "source": [
    "#### Realiza una gráfica que muestre la proporción de viajes totales de cada organismo"
   ]
  },
  {
   "cell_type": "code",
   "execution_count": null,
   "metadata": {
    "id": "jFHiT1pQI059"
   },
   "outputs": [],
   "source": []
  }
 ],
 "metadata": {
  "colab": {
   "name": "Preguntas Ejercicio Plotly MITAD EJERCICIO.ipynb",
   "provenance": []
  },
  "kernelspec": {
   "display_name": "Python 3 (ipykernel)",
   "language": "python",
   "name": "python3"
  },
  "language_info": {
   "codemirror_mode": {
    "name": "ipython",
    "version": 3
   },
   "file_extension": ".py",
   "mimetype": "text/x-python",
   "name": "python",
   "nbconvert_exporter": "python",
   "pygments_lexer": "ipython3",
   "version": "3.8.8"
  }
 },
 "nbformat": 4,
 "nbformat_minor": 1
}
